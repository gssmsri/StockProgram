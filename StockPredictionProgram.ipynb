{
  "nbformat": 4,
  "nbformat_minor": 0,
  "metadata": {
    "colab": {
      "name": "StockPredictionProgram.ipynb",
      "provenance": [],
      "authorship_tag": "ABX9TyNYFqU3ubAbhRmkqyTd3pC5",
      "include_colab_link": true
    },
    "kernelspec": {
      "name": "python3",
      "display_name": "Python 3"
    }
  },
  "cells": [
    {
      "cell_type": "markdown",
      "metadata": {
        "id": "view-in-github",
        "colab_type": "text"
      },
      "source": [
        "<a href=\"https://colab.research.google.com/github/gssmsri/StockProgram/blob/master/StockPredictionProgram.ipynb\" target=\"_parent\"><img src=\"https://colab.research.google.com/assets/colab-badge.svg\" alt=\"Open In Colab\"/></a>"
      ]
    },
    {
      "cell_type": "code",
      "metadata": {
        "id": "Nvc3JteRJIlZ",
        "colab_type": "code",
        "colab": {}
      },
      "source": [
        "#install dependencies quandl\n",
        "\n",
        "import quandl\n",
        "import numpy as np\n",
        "from sklearn.linear_model import LinearRegression\n",
        "from sklearn.svm import SVR\n",
        "from sklearn.model_selection import train_test_split"
      ],
      "execution_count": 0,
      "outputs": []
    },
    {
      "cell_type": "code",
      "metadata": {
        "id": "etjcM5VaJjH4",
        "colab_type": "code",
        "colab": {}
      },
      "source": [
        "#get the stock data\n",
        "df = quandl.get(\"WIKI/FB\")\n",
        "print (df.head())"
      ],
      "execution_count": 0,
      "outputs": []
    },
    {
      "cell_type": "code",
      "metadata": {
        "id": "TFfMwUQVJ8PQ",
        "colab_type": "code",
        "colab": {}
      },
      "source": [
        "#get Adj Close price\n",
        "df = df[['Adj. Close']]\n",
        "\n",
        "print (df.head())"
      ],
      "execution_count": 0,
      "outputs": []
    },
    {
      "cell_type": "code",
      "metadata": {
        "id": "zFr4KYJaKOow",
        "colab_type": "code",
        "colab": {}
      },
      "source": [
        "#predict\n",
        "forecast_out = 1\n",
        "#Create a new column for target. shift to 'n' units up\n",
        "\n",
        "df['Prediction'] = df[['Adj. Close']].shift(-1)\n",
        "print (df.head())\n"
      ],
      "execution_count": 0,
      "outputs": []
    }
  ]
}